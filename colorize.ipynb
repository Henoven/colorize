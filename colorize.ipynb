{
 "cells": [
  {
   "cell_type": "markdown",
   "metadata": {},
   "source": [
    "Colorize black and white images."
   ]
  },
  {
   "cell_type": "code",
   "execution_count": 11,
   "metadata": {},
   "outputs": [],
   "source": [
    "import numpy as np\n",
    "import cv2 as cv"
   ]
  },
  {
   "cell_type": "code",
   "execution_count": 12,
   "metadata": {},
   "outputs": [],
   "source": [
    "prototxt_path = 'models/colorization_deploy_v2.prototxt'\n",
    "model_path = 'models/colorization_release_v2.caffemodel'\n",
    "kernel_path = 'models/pts_in_hull.npy'\n",
    "image_path = 'PasiajeByN.jpg'"
   ]
  },
  {
   "cell_type": "code",
   "execution_count": 13,
   "metadata": {},
   "outputs": [],
   "source": [
    "# Select desired model\n",
    "net = cv.dnn.readNetFromCaffe(prototxt_path, model_path)\n",
    "\n",
    "pts_in_hull = np.load(kernel_path) # load cluster centers"
   ]
  },
  {
   "cell_type": "code",
   "execution_count": 14,
   "metadata": {},
   "outputs": [],
   "source": [
    "# populate cluster centers as 1x1 convolution kernel\n",
    "pts_in_hull = pts_in_hull.transpose().reshape(2, 313, 1, 1)\n",
    "net.getLayer(net.getLayerId('class8_ab')).blobs = [pts_in_hull.astype(np.float32)]\n",
    "net.getLayer(net.getLayerId('conv8_313_rh')).blobs = [np.full([1, 313], 2.606, np.float32)]"
   ]
  },
  {
   "cell_type": "code",
   "execution_count": 15,
   "metadata": {},
   "outputs": [],
   "source": [
    "#LAB -> L = lightness a* b*\n",
    "bw_image = cv.imread(image_path)\n",
    "normalized = bw_image.astype(\"float32\") / 255.0\n",
    "lab = cv.cvtColor(normalized, cv.COLOR_BGR2LAB)\n",
    "\n",
    "#Resize image to network input size\n",
    "resized = cv.resize(lab, (224, 224)) # resize image to network input size\n",
    "L = cv.split(resized)[0]\n",
    "L -= 50 # subtract 50 for mean-centering"
   ]
  },
  {
   "cell_type": "code",
   "execution_count": 16,
   "metadata": {},
   "outputs": [],
   "source": [
    "net.setInput(cv.dnn.blobFromImage(L))\n",
    "ab = net.forward()[0,:,:,:].transpose((1,2,0)) # this is our result\n",
    "\n",
    "ab = cv.resize(ab, (bw_image.shape[1], bw_image.shape[0]))\n",
    "L = cv.split(lab)[0]\n",
    "\n",
    "#Combine lightness with colors\n",
    "colorized = np.concatenate((L[:, :, np.newaxis], ab), axis=2)\n",
    "colorized = cv.cvtColor(colorized, cv.COLOR_LAB2BGR)\n",
    "colorized = (255.0 * colorized).astype(\"uint8\")\n",
    "\n",
    "cv.imshow(\"BW Image\", bw_image)\n",
    "cv.imshow(\"Colorized\", colorized)\n",
    "cv.waitKey(0)\n",
    "#cv.destroyAllWindows()\n"
   ]
  }
 ],
 "metadata": {
  "interpreter": {
   "hash": "ad2bdc8ecc057115af97d19610ffacc2b4e99fae6737bb82f5d7fb13d2f2c186"
  },
  "kernelspec": {
   "display_name": "Python 3.8.3 ('base')",
   "language": "python",
   "name": "python3"
  },
  "language_info": {
   "codemirror_mode": {
    "name": "ipython",
    "version": 3
   },
   "file_extension": ".py",
   "mimetype": "text/x-python",
   "name": "python",
   "nbconvert_exporter": "python",
   "pygments_lexer": "ipython3",
   "version": "3.8.3"
  },
  "orig_nbformat": 4
 },
 "nbformat": 4,
 "nbformat_minor": 2
}
